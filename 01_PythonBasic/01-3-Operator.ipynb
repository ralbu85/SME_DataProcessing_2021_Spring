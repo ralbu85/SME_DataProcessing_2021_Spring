{
 "cells": [
  {
   "cell_type": "markdown",
   "id": "commercial-basketball",
   "metadata": {},
   "source": [
    "## 3. 연산자(Operator)"
   ]
  },
  {
   "cell_type": "markdown",
   "id": "based-flesh",
   "metadata": {},
   "source": [
    "- 두개의 값을 결합하여 새로운 값을 만들기 위한 기호\n",
    "- 숫자값: 사칙연산\n",
    "- 문자열값: 문자붙이기\n",
    "- 불리언값: and, or, not"
   ]
  },
  {
   "cell_type": "markdown",
   "id": "streaming-conspiracy",
   "metadata": {},
   "source": [
    "## 3.1 숫자연산"
   ]
  },
  {
   "cell_type": "code",
   "execution_count": 23,
   "id": "worst-lancaster",
   "metadata": {},
   "outputs": [
    {
     "data": {
      "text/plain": [
       "20"
      ]
     },
     "execution_count": 23,
     "metadata": {},
     "output_type": "execute_result"
    }
   ],
   "source": [
    "10+10"
   ]
  },
  {
   "cell_type": "code",
   "execution_count": 24,
   "id": "adverse-arctic",
   "metadata": {},
   "outputs": [
    {
     "data": {
      "text/plain": [
       "100"
      ]
     },
     "execution_count": 24,
     "metadata": {},
     "output_type": "execute_result"
    }
   ],
   "source": [
    "10*10"
   ]
  },
  {
   "cell_type": "code",
   "execution_count": 25,
   "id": "median-group",
   "metadata": {},
   "outputs": [
    {
     "name": "stdout",
     "output_type": "stream",
     "text": [
      "20\n",
      "6\n",
      "0.6666666666666666\n",
      "-48\n"
     ]
    }
   ],
   "source": [
    "print(10+10)\n",
    "print(2*3)\n",
    "print(2/3)\n",
    "print(2-50)"
   ]
  },
  {
   "cell_type": "code",
   "execution_count": 26,
   "id": "clean-holly",
   "metadata": {},
   "outputs": [
    {
     "name": "stdout",
     "output_type": "stream",
     "text": [
      "64\n"
     ]
    }
   ],
   "source": [
    "print(4**3)"
   ]
  },
  {
   "cell_type": "code",
   "execution_count": 27,
   "id": "structured-death",
   "metadata": {},
   "outputs": [
    {
     "name": "stdout",
     "output_type": "stream",
     "text": [
      "0\n"
     ]
    }
   ],
   "source": [
    "print(15%3)"
   ]
  },
  {
   "cell_type": "markdown",
   "id": "meaning-greek",
   "metadata": {},
   "source": [
    "## 3.2 문자연산"
   ]
  },
  {
   "cell_type": "code",
   "execution_count": 29,
   "id": "controlled-fleece",
   "metadata": {},
   "outputs": [
    {
     "data": {
      "text/plain": [
       "'Hello World'"
      ]
     },
     "execution_count": 29,
     "metadata": {},
     "output_type": "execute_result"
    }
   ],
   "source": [
    "'Hello '+'World'"
   ]
  },
  {
   "cell_type": "code",
   "execution_count": 31,
   "id": "herbal-petite",
   "metadata": {},
   "outputs": [
    {
     "data": {
      "text/plain": [
       "'Hello Hello Hello Hello Hello '"
      ]
     },
     "execution_count": 31,
     "metadata": {},
     "output_type": "execute_result"
    }
   ],
   "source": [
    "'Hello '*5"
   ]
  },
  {
   "cell_type": "markdown",
   "id": "consecutive-congo",
   "metadata": {},
   "source": [
    "## 3.3 불리언 연산"
   ]
  },
  {
   "cell_type": "code",
   "execution_count": 32,
   "id": "confidential-florida",
   "metadata": {},
   "outputs": [
    {
     "name": "stdout",
     "output_type": "stream",
     "text": [
      "True\n",
      "False\n",
      "False\n",
      "False\n"
     ]
    }
   ],
   "source": [
    "print(True and True)\n",
    "print(True and False)\n",
    "print(False and True)\n",
    "print(False and False)"
   ]
  },
  {
   "cell_type": "code",
   "execution_count": 33,
   "id": "inclusive-causing",
   "metadata": {},
   "outputs": [
    {
     "name": "stdout",
     "output_type": "stream",
     "text": [
      "True\n",
      "True\n",
      "True\n",
      "False\n"
     ]
    }
   ],
   "source": [
    "print(True or True)\n",
    "print(True or False)\n",
    "print(False or True)\n",
    "print(False or False)"
   ]
  },
  {
   "cell_type": "code",
   "execution_count": 34,
   "id": "strange-basics",
   "metadata": {},
   "outputs": [
    {
     "name": "stdout",
     "output_type": "stream",
     "text": [
      "False\n",
      "True\n"
     ]
    }
   ],
   "source": [
    "print(not True)\n",
    "print(not False)"
   ]
  },
  {
   "cell_type": "markdown",
   "id": "exposed-second",
   "metadata": {},
   "source": [
    "## 3.4 비교연산자"
   ]
  },
  {
   "cell_type": "markdown",
   "id": "divided-journalist",
   "metadata": {},
   "source": [
    "- 지금까지의 연산자\n",
    "- 숫자값 = 숫자값 (연산자) 숫자값\n",
    "- 문자열 = 문자열 (연산자) 문자열\n",
    "- 불리언 = 불리언 (연산자) 불리언"
   ]
  },
  {
   "cell_type": "markdown",
   "id": "verbal-rider",
   "metadata": {},
   "source": [
    "- 비교연산자 \n",
    "- 불리언 = 숫자 (비교연산자) 숫자\n",
    "- \">, <, >=, <=, ==, !=\""
   ]
  },
  {
   "cell_type": "code",
   "execution_count": 2,
   "id": "parallel-offer",
   "metadata": {},
   "outputs": [
    {
     "data": {
      "text/plain": [
       "False"
      ]
     },
     "execution_count": 2,
     "metadata": {},
     "output_type": "execute_result"
    }
   ],
   "source": [
    "3>5"
   ]
  },
  {
   "cell_type": "code",
   "execution_count": 3,
   "id": "breathing-implement",
   "metadata": {},
   "outputs": [
    {
     "data": {
      "text/plain": [
       "True"
      ]
     },
     "execution_count": 3,
     "metadata": {},
     "output_type": "execute_result"
    }
   ],
   "source": [
    "3<5"
   ]
  },
  {
   "cell_type": "code",
   "execution_count": 4,
   "id": "choice-powder",
   "metadata": {},
   "outputs": [
    {
     "data": {
      "text/plain": [
       "False"
      ]
     },
     "execution_count": 4,
     "metadata": {},
     "output_type": "execute_result"
    }
   ],
   "source": [
    "3==5"
   ]
  },
  {
   "cell_type": "code",
   "execution_count": 7,
   "id": "proved-heater",
   "metadata": {},
   "outputs": [
    {
     "data": {
      "text/plain": [
       "True"
      ]
     },
     "execution_count": 7,
     "metadata": {},
     "output_type": "execute_result"
    }
   ],
   "source": [
    "3!=5"
   ]
  },
  {
   "cell_type": "code",
   "execution_count": 5,
   "id": "viral-delhi",
   "metadata": {},
   "outputs": [
    {
     "data": {
      "text/plain": [
       "True"
      ]
     },
     "execution_count": 5,
     "metadata": {},
     "output_type": "execute_result"
    }
   ],
   "source": [
    "3<=3"
   ]
  },
  {
   "cell_type": "code",
   "execution_count": 6,
   "id": "brazilian-coupon",
   "metadata": {},
   "outputs": [
    {
     "data": {
      "text/plain": [
       "True"
      ]
     },
     "execution_count": 6,
     "metadata": {},
     "output_type": "execute_result"
    }
   ],
   "source": [
    "3==3"
   ]
  }
 ],
 "metadata": {
  "kernelspec": {
   "display_name": "Python 3",
   "language": "python",
   "name": "python3"
  },
  "language_info": {
   "codemirror_mode": {
    "name": "ipython",
    "version": 3
   },
   "file_extension": ".py",
   "mimetype": "text/x-python",
   "name": "python",
   "nbconvert_exporter": "python",
   "pygments_lexer": "ipython3",
   "version": "3.7.3"
  }
 },
 "nbformat": 4,
 "nbformat_minor": 5
}
