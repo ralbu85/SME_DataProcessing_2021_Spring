{
 "cells": [
  {
   "cell_type": "markdown",
   "id": "subjective-network",
   "metadata": {},
   "source": [
    "# 04. 리스트"
   ]
  },
  {
   "cell_type": "code",
   "execution_count": 1,
   "id": "speaking-classification",
   "metadata": {},
   "outputs": [
    {
     "name": "stdout",
     "output_type": "stream",
     "text": [
      "True\n",
      "False\n",
      "False\n",
      "True\n"
     ]
    }
   ],
   "source": [
    "a=3\n",
    "b=2\n",
    "print(a>b)\n",
    "print(a<b)\n",
    "print(a==b)\n",
    "print(a!=b)"
   ]
  },
  {
   "cell_type": "code",
   "execution_count": 2,
   "id": "wicked-stationery",
   "metadata": {},
   "outputs": [
    {
     "name": "stdout",
     "output_type": "stream",
     "text": [
      "True\n",
      "False\n"
     ]
    }
   ],
   "source": [
    "a='hello'\n",
    "b='hello'\n",
    "c='heRRp'\n",
    "print(a==b)\n",
    "print(a==c)\n"
   ]
  },
  {
   "cell_type": "markdown",
   "id": "helpful-contemporary",
   "metadata": {},
   "source": [
    "## 04-1. if문의 기본구조"
   ]
  },
  {
   "cell_type": "code",
   "execution_count": 3,
   "id": "serial-agenda",
   "metadata": {},
   "outputs": [
    {
     "name": "stdout",
     "output_type": "stream",
     "text": [
      "Hello World\n"
     ]
    }
   ],
   "source": [
    "if True:\n",
    "    print('Hello World')"
   ]
  },
  {
   "cell_type": "code",
   "execution_count": 4,
   "id": "contrary-exception",
   "metadata": {},
   "outputs": [],
   "source": [
    "if False:\n",
    "    print('Hello World')\n",
    "    "
   ]
  },
  {
   "cell_type": "markdown",
   "id": "creative-jewelry",
   "metadata": {},
   "source": [
    "## 04-2. 비교연산자와 함께 if 사용"
   ]
  },
  {
   "cell_type": "code",
   "execution_count": 5,
   "id": "fixed-poetry",
   "metadata": {},
   "outputs": [
    {
     "name": "stdout",
     "output_type": "stream",
     "text": [
      "Hello World\n"
     ]
    }
   ],
   "source": [
    "x = 3\n",
    "if x<4:\n",
    "    print('Hello World')"
   ]
  },
  {
   "cell_type": "code",
   "execution_count": 6,
   "id": "considered-entity",
   "metadata": {},
   "outputs": [
    {
     "name": "stdout",
     "output_type": "stream",
     "text": [
      "Hello World\n"
     ]
    }
   ],
   "source": [
    "x = 5\n",
    "if x != 10:\n",
    "    print('Hello World')"
   ]
  },
  {
   "cell_type": "markdown",
   "id": "thorough-thumbnail",
   "metadata": {},
   "source": [
    "## 04-3. 조건이 두 개일 때 (else)"
   ]
  },
  {
   "cell_type": "code",
   "execution_count": 8,
   "id": "right-living",
   "metadata": {},
   "outputs": [
    {
     "name": "stdout",
     "output_type": "stream",
     "text": [
      "x is larger than 20.\n"
     ]
    }
   ],
   "source": [
    "x = 30\n",
    "if x>20:\n",
    "    print('x is larger than 20.')\n",
    "else:\n",
    "    print('x is less than 20.')"
   ]
  },
  {
   "cell_type": "code",
   "execution_count": 9,
   "id": "personal-gallery",
   "metadata": {},
   "outputs": [
    {
     "name": "stdout",
     "output_type": "stream",
     "text": [
      "x is less than 20.\n"
     ]
    }
   ],
   "source": [
    "x = 10\n",
    "if x>20:\n",
    "    print('x is larger than 20.')\n",
    "else:\n",
    "    print('x is less than 20.')"
   ]
  },
  {
   "cell_type": "markdown",
   "id": "compact-filename",
   "metadata": {},
   "source": [
    "## 04-4. 조건이 두 개 이상일 때 "
   ]
  },
  {
   "cell_type": "code",
   "execution_count": 11,
   "id": "aquatic-whale",
   "metadata": {},
   "outputs": [
    {
     "name": "stdout",
     "output_type": "stream",
     "text": [
      "x is larger than 20.\n"
     ]
    }
   ],
   "source": [
    "x = 30\n",
    "if x>20:\n",
    "    print('x is larger than 20.')\n",
    "else: \n",
    "    if x> 10:\n",
    "        print('x is less than 20.')\n",
    "    else:\n",
    "        print('x is less than 10.')"
   ]
  },
  {
   "cell_type": "code",
   "execution_count": 12,
   "id": "blond-multimedia",
   "metadata": {},
   "outputs": [
    {
     "name": "stdout",
     "output_type": "stream",
     "text": [
      "x is less than 20.\n"
     ]
    }
   ],
   "source": [
    "x = 15\n",
    "if x>20:\n",
    "    print('x is larger than 20.')\n",
    "else: \n",
    "    if x> 10:\n",
    "        print('x is less than 20.')\n",
    "    else:\n",
    "        print('x is less than 10.')"
   ]
  },
  {
   "cell_type": "code",
   "execution_count": 13,
   "id": "important-sterling",
   "metadata": {},
   "outputs": [
    {
     "name": "stdout",
     "output_type": "stream",
     "text": [
      "x is less than 10.\n"
     ]
    }
   ],
   "source": [
    "x = 5\n",
    "if x>20:\n",
    "    print('x is larger than 20.')\n",
    "else: \n",
    "    if x> 10:\n",
    "        print('x is less than 20.')\n",
    "    else:\n",
    "        print('x is less than 10.')"
   ]
  },
  {
   "cell_type": "markdown",
   "id": "electoral-train",
   "metadata": {},
   "source": [
    "## 04-5. 코드블럭"
   ]
  },
  {
   "cell_type": "code",
   "execution_count": 14,
   "id": "polyphonic-accountability",
   "metadata": {},
   "outputs": [
    {
     "name": "stdout",
     "output_type": "stream",
     "text": [
      "Hello World\n",
      "x is less than four.\n"
     ]
    }
   ],
   "source": [
    "x = 3\n",
    "if x<4:\n",
    "    print('Hello World')\n",
    "    print('x is less than four.')"
   ]
  },
  {
   "cell_type": "code",
   "execution_count": 15,
   "id": "pregnant-standing",
   "metadata": {},
   "outputs": [
    {
     "name": "stdout",
     "output_type": "stream",
     "text": [
      "Hello World\n",
      "x is larger than four.\n"
     ]
    }
   ],
   "source": [
    "x = 5\n",
    "if x<4:\n",
    "    print('Hello World')\n",
    "    print('x is less than four.')\n",
    "else:\n",
    "    print('Hello World')\n",
    "    print('x is larger than four.')"
   ]
  }
 ],
 "metadata": {
  "kernelspec": {
   "display_name": "Python 3",
   "language": "python",
   "name": "python3"
  },
  "language_info": {
   "codemirror_mode": {
    "name": "ipython",
    "version": 3
   },
   "file_extension": ".py",
   "mimetype": "text/x-python",
   "name": "python",
   "nbconvert_exporter": "python",
   "pygments_lexer": "ipython3",
   "version": "3.7.3"
  }
 },
 "nbformat": 4,
 "nbformat_minor": 5
}
